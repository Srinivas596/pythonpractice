{
 "cells": [
  {
   "cell_type": "code",
   "execution_count": 3,
   "id": "b56e3b3d-fe24-4dbe-b594-d9604b71d168",
   "metadata": {},
   "outputs": [
    {
     "name": "stdin",
     "output_type": "stream",
     "text": [
      "Enter project marks:  85\n",
      "Enter internal marks:  80\n",
      "Enter external marks:  90\n"
     ]
    },
    {
     "name": "stdout",
     "output_type": "stream",
     "text": [
      "Final Score: 85.50\n",
      "Grade: B\n",
      "Status: Pass\n",
      "Certificate Awarded 🎓\n"
     ]
    }
   ],
   "source": [
    "#If the score is more than 90-A grade\n",
    "                          #70-90-b grade \n",
    "                          #50-70-c grade\n",
    "#first we have to 3 terms internal external and project\n",
    "#project-70% \n",
    "#internal-10% \n",
    "#external-20%* here we have to see every mark of project internal and external if everything is above 50 then pass and next\n",
    "#while calcuating score we have to take percentage as mentioned and we have to certain certificate if he is passed\n",
    "# Input marks\n",
    "project = float(input(\"Enter project marks: \"))\n",
    "internal = float(input(\"Enter internal marks: \"))\n",
    "external = float(input(\"Enter external marks: \"))\n",
    "\n",
    "# Check pass condition\n",
    "if project < 50 or internal < 50 or external < 50:\n",
    "    print(\"Result: Fail\")\n",
    "else:\n",
    "    # Calculate weighted score\n",
    "    final_score = (project * 0.7) + (internal * 0.1) + (external * 0.2)\n",
    "    \n",
    "    # Determine grade\n",
    "    if final_score > 90:\n",
    "        grade = \"A\"\n",
    "    elif final_score >= 70:\n",
    "        grade = \"B\"\n",
    "    else:\n",
    "        grade = \"C\"\n",
    "    \n",
    "    # Display result\n",
    "    print(f\"Final Score: {final_score:.2f}\")\n",
    "    print(f\"Grade: {grade}\")\n",
    "    print(\"Status: Pass\")\n",
    "    print(\"Certificate Awarded 🎓\")\n"
   ]
  },
  {
   "cell_type": "code",
   "execution_count": 5,
   "id": "c1928b0d-e5b5-4513-ae0a-f0a0887214ac",
   "metadata": {},
   "outputs": [
    {
     "name": "stdin",
     "output_type": "stream",
     "text": [
      " 68\n"
     ]
    },
    {
     "name": "stdout",
     "output_type": "stream",
     "text": [
      "TDS = 0% You need not to pay tax.\n"
     ]
    }
   ],
   "source": [
    "\"\"\" if salary < 500000 -- 0 TDS\n",
    "TDS Will be applicable if salary is more than 5lpa\n",
    "then\n",
    "0-3 -- TDS --0\n",
    "3-6 -- TDS is 5% -- 300000 : 15000\n",
    "6-9 -- TDS is 10% -- 300000 : 30000\n",
    "9-15 -- TDS is 15%      600000: 90000\n",
    "                        300000: 90000\n",
    "more than 15lpa tds is 30%\"\"\"\n",
    "\n",
    "salary = int(input())\n",
    "if salary <= 500000:\n",
    "    tds = 0\n",
    "    print(f\"TDS = {tds}% You need not to pay tax.\")\n",
    "elif  salary <= 600000:\n",
    "    tds = 5\n",
    "    print(f\"TDS = {tds}%. You need to pay tax of {(salary * tds) / 100}\")\n",
    "elif  salary <= 900000:\n",
    "    tds = 10\n",
    "    print(f\"TDS = {tds}%. You need to pay tax of {(salary * tds) / 100}\")\n",
    "elif salary <= 1500000:\n",
    "    tds = 15\n",
    "    print(f\"TDS = {tds}%. You need to pay tax of {(salary * tds) / 100}\")\n",
    "else:\n",
    "    tds = 30\n",
    "    print(f\"TDS = {tds}%. You need to pay tax of {(salary * tds) / 100}\")"
   ]
  },
  {
   "cell_type": "code",
   "execution_count": null,
   "id": "5db2fe6a-6858-48b2-ad05-e1646c87dcdd",
   "metadata": {},
   "outputs": [],
   "source": []
  }
 ],
 "metadata": {
  "kernelspec": {
   "display_name": "Python [conda env:base] *",
   "language": "python",
   "name": "conda-base-py"
  },
  "language_info": {
   "codemirror_mode": {
    "name": "ipython",
    "version": 3
   },
   "file_extension": ".py",
   "mimetype": "text/x-python",
   "name": "python",
   "nbconvert_exporter": "python",
   "pygments_lexer": "ipython3",
   "version": "3.13.5"
  }
 },
 "nbformat": 4,
 "nbformat_minor": 5
}
